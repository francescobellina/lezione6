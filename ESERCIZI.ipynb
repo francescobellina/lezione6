{
  "cells": [
    {
      "cell_type": "markdown",
      "source": [
        "##ESERCIZIO 1: trovare lo zero di una funzione con BISEZIONE METHOD"
      ],
      "metadata": {
        "id": "eFrKxPGfOdLT"
      }
    },
    {
      "cell_type": "code",
      "source": [
        "#Determine the zero of the function g(x) = cos(x) using the bisection method in the interval (0, 4).\n",
        "#Which checks have been omitted in the implementation of the algorithm described in the lesson text that could speed up the result?\n",
        "\n",
        "def bisezione (\n",
        "    g,              # funzione di cui trovare lo zero\n",
        "    xMin,           # minimo dell'intervallo\n",
        "    xMax,           # massimo dell'intervallo\n",
        "    prec = 0.0001): # precisione della funzione (con cui voglio trovare lo zero)\n",
        "    '''\n",
        "    Funzione che calcola zeri\n",
        "    con il metodo della bisezione\n",
        "    '''\n",
        "    xAve = 0 #inizializzo la variabile di supporto che mi stamperà il valore cercato\n",
        "    while ((xMax - xMin) > prec) : #condizione dell'iterazione\n",
        "        xAve = 0.5 * (xMax + xMin)\n",
        "        if (g (xAve) * g (xMin) > 0.): xMin = xAve #sfrutta la concordanza o discordanza del segno, se i isegni sono uguali ancora l'intervallino non contiene lo zero\n",
        "        else                         : xMax = xAve\n",
        "    return xAve\n",
        "\n",
        "\n",
        "from math import cos\n",
        "\n",
        "def func (x) : #FUNZIONE SU CUI VOGLIO TROVARE LO ZERO CON UNA CERTA PRECISIONE(che ho però settato nella scrittura della funzione), SU UN CERTO INTERVALLO\n",
        "    '''\n",
        "    Funzione di cui trovare lo zero\n",
        "    '''\n",
        "    return cos (x)\n",
        "\n",
        "\n",
        "# ---- ---- ---- ---- ---- ---- ---- ---- ---- ---- ---- ---- ----\n",
        "import time\n",
        "\n",
        "def main () :\n",
        "    '''\n",
        "    Funzione che implementa il programma principale\n",
        "    '''\n",
        "    # %timeit\n",
        "    print ('Zero della funzione = ', bisezione (func, 0., 4.))\n",
        "\n",
        "    #tempo di esecuzione algortimo iterativo:\n",
        "    start=time.time()\n",
        "    a = bisezione (func, 0., 4.) #non metto il print qui, ma prima. altrimenti mi calcola anche il tempo della funzione print\n",
        "    end=time.time()\n",
        "    print(f\" time bisezione = {1000.*(end-start):.3f}ms\")\n",
        "\n",
        "if __name__ == \"__main__\":\n",
        "    main ()\n",
        "\n"
      ],
      "metadata": {
        "colab": {
          "base_uri": "https://localhost:8080/"
        },
        "id": "f-1_mODTQ0re",
        "outputId": "d7435a7e-0d40-4aed-ade1-4c18f95f861c"
      },
      "execution_count": 5,
      "outputs": [
        {
          "output_type": "stream",
          "name": "stdout",
          "text": [
            "Zero della funzione =  1.57073974609375\n",
            " time bisezione = 0.008ms\n"
          ]
        }
      ]
    },
    {
      "cell_type": "markdown",
      "source": [
        "#ESERCIZIO 2: è l'esercizio 1 scritto in froma RICORSIVA"
      ],
      "metadata": {
        "id": "18jZXk49St8s"
      }
    },
    {
      "cell_type": "code",
      "source": [
        "\n",
        "#Perform the previous exercise using a recursive function.\n",
        "#Which of the two implementations is faster?\n",
        "\n",
        "\n",
        "def bisezione_ricorsiva (       #MODO RICORSIVO DELLA STESSA FUNZIONE DEFINITA SOPRA\n",
        "    g,              # funzione di cui trovare lo zero\n",
        "    xMin,           # minimo dell'intervallo\n",
        "    xMax,           # massimo dell'intervallo\n",
        "    prec = 0.0001): # precisione della funzione\n",
        "\n",
        "    '''\n",
        "    Funzione che calcola zeri\n",
        "    con il metodo della bisezione ricorsivo\n",
        "    '''\n",
        "    xAve = 0.5 * (xMax + xMin)\n",
        "    if ((xMax - xMin) < prec): return xAve\n",
        "    if (g (xAve) * g (xMin) > 0.): return bisezione_ricorsiva (g, xAve, xMax, prec) ; #GUARDA COME VENGONO ORA AGGIORNATI I PARAMETRI NEL RICHIAMARE LA FUNZIONE\n",
        "    else                         : return bisezione_ricorsiva (g, xMin, xAve, prec) ;\n",
        "\n",
        "\n",
        "\n",
        "def main () :\n",
        "    '''\n",
        "    Funzione che implementa il programma principale\n",
        "    '''\n",
        "    print ('Zero della funzione = ', bisezione_ricorsiva(func, 0., 4.))\n",
        "\n",
        "    #tempo di esecuzione algortimo ricorsivo:\n",
        "    start=time.time()\n",
        "    bisezione_ricorsiva(func, 0., 4.) #se mettessi un print attorno a bisezione_... il tempo di esecuzione sarebbe piu lungo, per cui lo escludo e calcolo soltanto il valore\n",
        "    end=time.time()\n",
        "    execution_time=end-start\n",
        "    print(f\"time bisezione = {1000.*(end-start):.3f}ms\")\n",
        "    print(f\"Il tempo di esecuzione della funzione tra i blocchi start ed end vale: {1000.*(execution_time):.3f}ms\") #ok, f sta per troncaree alla terza cifra decimale del float\n",
        "    print(\"il tempo di... vale: \", execution_time, \"secondi\") #in maniera piu rozza, dicono tutte e tre la stessa cosa\n",
        "\n",
        "# ---- ---- ---- ---- ---- ---- ---- ---- ---- ---- ---- ---- ----\n",
        "\n",
        "\n",
        "if __name__ == \"__main__\":\n",
        "    main ()\n",
        "\n"
      ],
      "metadata": {
        "colab": {
          "base_uri": "https://localhost:8080/"
        },
        "id": "34-79rLXS1z5",
        "outputId": "6d5f4ebd-7381-4974-ab89-8cae4d6f41d2"
      },
      "execution_count": 47,
      "outputs": [
        {
          "output_type": "stream",
          "name": "stdout",
          "text": [
            "Zero della funzione =  1.570770263671875\n",
            "time bisezione = 0.016ms\n",
            "Il tempo di esecuzione della funzione tra i blocchi start ed end vale: 0.016ms\n",
            "il tempo di... vale:  1.621246337890625e-05 secondi\n"
          ]
        }
      ]
    },
    {
      "cell_type": "markdown",
      "source": [
        "#ESERCIZIO 3: fattoriale in forma ricorsiva"
      ],
      "metadata": {
        "id": "45dEd6tcZnYd"
      }
    },
    {
      "cell_type": "code",
      "source": [
        "#Implement a function that calculates the factorial of a number using a recursive function.\n",
        "\n",
        "def factorial(n):\n",
        "\n",
        "   if n<2 :\n",
        "     return 1\n",
        "   return n*factorial(n-1) #è qui la ricorsione\n",
        "\n",
        "\n",
        "def main():\n",
        "  fact=factorial(10)\n",
        "  print(fact)\n",
        "\n",
        "  fact=factorial(3)\n",
        "  print(fact)\n",
        "\n",
        "\n",
        "if __name__ == \"__main__\":\n",
        "    main ()"
      ],
      "metadata": {
        "colab": {
          "base_uri": "https://localhost:8080/"
        },
        "id": "sB8VZreeZvjR",
        "outputId": "56e0eb15-3fc3-4b13-d654-a1a6d011563a"
      },
      "execution_count": 45,
      "outputs": [
        {
          "output_type": "stream",
          "name": "stdout",
          "text": [
            "3628800\n",
            "6\n"
          ]
        }
      ]
    },
    {
      "cell_type": "markdown",
      "source": [
        "#variante esercizio3:\n",
        "## scrivere la funzione factorial in forma iterativa. confrontare poi i tempi di entrambe le implementazioni."
      ],
      "metadata": {
        "id": "rPEsI9wYaG5g"
      }
    },
    {
      "cell_type": "code",
      "source": [
        "def factorial_it(n):\n",
        "  i=1\n",
        "  m=1 #variabile bandierina\n",
        "  while(i<=n):\n",
        "   if n==0: return 1\n",
        "   else:\n",
        "    m=m*i\n",
        "   i=i+1\n",
        "  return m\n",
        "\n",
        "def main():\n",
        "  print(factorial_it(10))\n",
        "\n",
        "\n",
        "if __name__ == \"__main__\":\n",
        "    main ()\n",
        ""
      ],
      "metadata": {
        "colab": {
          "base_uri": "https://localhost:8080/"
        },
        "id": "LICinXagaRnI",
        "outputId": "40c750bb-cfa5-48a2-dbf0-c5e0a11b8f81"
      },
      "execution_count": 5,
      "outputs": [
        {
          "output_type": "stream",
          "name": "stdout",
          "text": [
            "3628800\n"
          ]
        }
      ]
    },
    {
      "cell_type": "code",
      "source": [
        "#confronto tempi di esecuzione\n",
        "import time\n",
        "\n",
        "\n",
        "def factorial(n):\n",
        "\n",
        "   if n<2 :\n",
        "     return 1\n",
        "   return n*factorial(n-1)\n",
        "#-------------------------\n",
        "def factorial_it(n):\n",
        " i=1\n",
        " m=1 #variabile bandierina\n",
        " while(i<=n):\n",
        "  if n==0: return 1\n",
        "  else:\n",
        "   m=m*i\n",
        "   i=i+1\n",
        "  return m\n",
        "#------------------------\n",
        "\n",
        "def main():\n",
        "\n",
        "  i=time.time()\n",
        "  factorial(10)\n",
        "  f=time.time()\n",
        "  print(\"tempo di esecuzione (espresso in ms):\",(1000*(f-i)))\n",
        "\n",
        "  i=time.time()\n",
        "  factorial_it(10)\n",
        "  f=time.time()\n",
        "  print(\"tempo di esecuzione (espresso in ms):\",(1000*(f-i)))\n",
        "\n",
        "\n",
        "  print(\"\\nLa versione iterativa la più veloce\")\n",
        "\n",
        "if __name__ == \"__main__\":\n",
        "    main ()\n",
        ""
      ],
      "metadata": {
        "colab": {
          "base_uri": "https://localhost:8080/"
        },
        "id": "Ap2M--tmc4vx",
        "outputId": "6d515a18-7e9b-4442-e82d-78a7d6ae9b42"
      },
      "execution_count": 19,
      "outputs": [
        {
          "output_type": "stream",
          "name": "stdout",
          "text": [
            "tempo di esecuzione (espresso in ms): 0.0040531158447265625\n",
            "tempo di esecuzione (espresso in ms): 0.0019073486328125\n",
            "\n",
            "La versione iterativa la più veloce\n"
          ]
        }
      ]
    },
    {
      "cell_type": "markdown",
      "source": [
        "#ESERCIZIO 4:\n",
        "##**METODO DEL RAPPORTO AUREO** per trovare il *minimo* di una funzione"
      ],
      "metadata": {
        "id": "ZIZ3JWSq2dyh"
      }
    },
    {
      "cell_type": "code",
      "source": [
        "#Determine the minimum of the function g(x) = x2 + 7.3x + 4 using the golden ratio search method in the interval (-10, 10).\n",
        "\n",
        "#anche qui si procede per passi, restringendo ad ogni iterazione l’intervallo che contiene l’estremante fino a che diventa più piccolo di una precisione prefissata\n",
        "\n",
        "def polin(x):\n",
        "  return x**2+ 7.3*x + 4\n",
        "\n",
        "\n",
        "def goldenratio(func, xmin, xmax, prec=0.0001):\n",
        "#Per trovare il minimo di una funzione servono abbastanza punti da capirne la pendenza in diverse regioni dell’intervallo,\n",
        "#quindi se ne cercano QUATTRO , che determinano TRE intervalli\n",
        "\n",
        "#L’intervallo si stringe eliminando il tratto dove il minimo di sicuro non c’è. si procede poi sull'intervallo ristretto.\n",
        "\n",
        " r=0.618\n",
        "\n",
        " x2=xmin+r*(xmax-xmin)\n",
        " x3=xmin+(1-r)*(xmax-xmin)\n",
        " #Per ottimizzare il calcolo, i punti x2,x3 vengono scelti in modo che UNO DEI DUE POSSA ESSERE UTILIZZATO NELL'INTERAZIONE SEGUENTE,\n",
        " #garantendo la stessa proporzione di suddivisione dell’intervallo\n",
        "\n",
        "\n",
        " while(xmax-xmin)>prec :\n",
        "  if(func(x2)<func(x3)): #escludo l'intervallino di destra [x0,x3] TENGO FISSO IL MASSIMO\n",
        "    xmin=x3\n",
        "    x2=x2+r*(xmax-x3)\n",
        "    #x3=xmin+(1-r)*(xmax-xmin)\n",
        "    #x3=x2\n",
        "  else : #cioè if(func(x2)>func(x3)) #escludo l'altro intervallo TENGO FISSO IL MINIMO\n",
        "   xmax=x2\n",
        "   x3=xmin+(1-r)*(xmax-xmin)\n",
        "   x2=xmin+r*(x2-xmin)\n",
        "\n",
        "\n",
        " return func((xmin+xmax)/2.)\n",
        "\n",
        "\n",
        "\n",
        "\n",
        "def main():\n",
        "\n",
        "   a=goldenratio(polin, -10. , 10. )\n",
        "   print(\"il minimo della funzione data vale: \", a)\n",
        "\n",
        "if __name__ == \"__main__\":\n",
        "    main ()\n",
        "#FUNZIONa MA NON È IMPLEMENTATO BENE, DEVE ESSERE PIÙ PULITO SEGUENDO L'ALGORITMO"
      ],
      "metadata": {
        "colab": {
          "base_uri": "https://localhost:8080/"
        },
        "id": "J4JocEuB2tJb",
        "outputId": "ecf09920-8a86-42bd-8f1d-7ab0205ad19c"
      },
      "execution_count": 33,
      "outputs": [
        {
          "output_type": "stream",
          "name": "stdout",
          "text": [
            "il minimo della funzione data vale:  -9.322499999919552\n"
          ]
        }
      ]
    },
    {
      "cell_type": "code",
      "source": [
        "\n",
        "#ECCO UNA RISCRITTURA COME SI DEVE\n",
        "\n",
        "def polin(x):\n",
        "  return x**2+ 7.3*x + 4\n",
        "\n",
        "def goldenratio (func,x0, x1, precision=0.0001):\n",
        "  r = 0.618\n",
        "  x2 = 0\n",
        "  x3 = 0\n",
        "\n",
        "  while (x1-x0 > precision):\n",
        "\n",
        "   x2 = x0 + r * (x1 - x0)\n",
        "   x3 = x0 + (1. - r) * (x1 - x0)\n",
        "\n",
        "   if (func(x3) > func(x2)):   #restringo l'intervallo tennedo fisso uno dei due estremi e spostando l'altro\n",
        "    x0 = x3\n",
        "    x1 = x1                    #tengo fisso il massimo e calcolo partendo dal nuovo minimo (ricorda che x3 di partenza è < di x2)\n",
        "\n",
        "   else:          #restringo l'intervallo tennedo fisso uno dei due estremi e spopstando l'altro\n",
        "     x1 = x2\n",
        "     x0 = x0     #qui invece tengo fisso il minimo e calcolo i vari sottointervallindi traslando da dx vs sx finchè la condizione è soddisfatta\n",
        "\n",
        "  return func((x0+x1)/2.)\n",
        "\n",
        "\n",
        "\n",
        "#-----------------------------------\n",
        "def main():\n",
        "\n",
        "   a=goldenratio(polin, -10. , 10. )\n",
        "   print(\"il minimo della funzione data vale: \", a)\n",
        "\n",
        "if __name__ == \"__main__\":\n",
        "    main ()"
      ],
      "metadata": {
        "colab": {
          "base_uri": "https://localhost:8080/"
        },
        "id": "NtL08Vwj4Ls2",
        "outputId": "c1ada80b-cbe6-4f52-b43b-f4e3ec0cc197"
      },
      "execution_count": 40,
      "outputs": [
        {
          "output_type": "stream",
          "name": "stdout",
          "text": [
            "il minimo della funzione data vale:  -9.322499999989008\n"
          ]
        }
      ]
    },
    {
      "cell_type": "markdown",
      "source": [
        "#ESERCIZIO5:\n",
        "##è l'esercizio 4 usando la ricorsione"
      ],
      "metadata": {
        "id": "_lqkmfLv_vq3"
      }
    },
    {
      "cell_type": "code",
      "source": [
        "#Perform the previous exercise using a recursive function.\n",
        "\n",
        "#Which of the two implementations is faster?\n",
        "\n",
        "def polin(x):\n",
        "  return x**2 + 7.3*x + 4\n",
        "\n",
        "def goldenratio_ric (func,x0, x1, precision=0.0001):\n",
        "\n",
        "  r = 0.618\n",
        "  x2 = x0 +  r * (x1 - x0)\n",
        "  x3 = x0 + (1. - r) * (x1 - x0)\n",
        "    #ci servono uscita e passo(i) ricorsione:\n",
        "\n",
        "  if (x1-x0 < precision): return func(x0+x1/2.)\n",
        "  elif (func(x3)>func(x2)): return goldenratio_ric(func,x3,x1,precision=0.0001)\n",
        "  else: return goldenratio_ric(func,x0,x2,precision=0.0001)\n",
        "\n",
        "\n",
        "  return func((x0+x1)/2.)\n",
        "#-------------------------------------------------------------------------\n",
        "def main():\n",
        "\n",
        "   a=goldenratio(polin, -10. , 10. )\n",
        "   print(\"il minimo della funzione data vale: \", a)\n",
        "\n",
        "if __name__ == \"__main__\":\n",
        "    main ()"
      ],
      "metadata": {
        "colab": {
          "base_uri": "https://localhost:8080/"
        },
        "id": "5zM6luNNAGO9",
        "outputId": "6008d2ac-7f1e-4320-fd38-522547fd4a5b"
      },
      "execution_count": 53,
      "outputs": [
        {
          "output_type": "stream",
          "name": "stdout",
          "text": [
            "il minimo della funzione data vale:  -9.322499999989008\n"
          ]
        }
      ]
    },
    {
      "cell_type": "code",
      "source": [
        "#ORA CONFRONTIAMO I TEMPI TRA L'IMPLEMENTAZIONE ITERATIVA E QUELLA RICORSIVA DEL METODO DEL RAPPORTO AUREO\n",
        "\n",
        "import time\n",
        "\n",
        "def polin(x):\n",
        "  return x**2+ 7.3*x + 4\n",
        "#-----------------------------------------------\n",
        "def goldenratio (func,x0, x1, precision=0.0001):\n",
        "  r = 0.618\n",
        "  x2 = 0\n",
        "  x3 = 0\n",
        "\n",
        "  while (x1-x0 > precision):\n",
        "\n",
        "   x2 = x0 + r * (x1 - x0)\n",
        "   x3 = x0 + (1. - r) * (x1 - x0)\n",
        "\n",
        "   if (func(x3) > func(x2)):\n",
        "    x0 = x3\n",
        "    x1 = x1\n",
        "\n",
        "   else:\n",
        "     x1 = x2\n",
        "     x0 = x0\n",
        "\n",
        "  return func((x0+x1)/2.)\n",
        "\n",
        "#-------------------------------------------\n",
        "def goldenratio_ric (func,x0, x1, precision=0.0001):\n",
        "\n",
        "  r = 0.618\n",
        "  x2 = x0 +  r * (x1 - x0)\n",
        "  x3 = x0 + (1. - r) * (x1 - x0)\n",
        "    #ci servono uscita e passo(i) ricorsione:\n",
        "\n",
        "  if (x1-x0 < precision): return func(x0+x1/2.)\n",
        "  elif (func(x3)>func(x2)): return goldenratio_ric(func,x3,x1,precision=0.0001)\n",
        "  else: return goldenratio_ric(func,x0,x2,precision=0.0001)\n",
        "\n",
        "\n",
        "  return func((x0+x1)/2.)\n",
        "#-------------------------------------------------------------------------\n",
        "#-------------------------------------------------------------------------\n",
        "def main():\n",
        "\n",
        "  i=time.time()\n",
        "  goldenratio(polin,-10.,10.)\n",
        "  f=time.time()\n",
        "  print(\"tempo di esecuzione con iterazione (espresso in ms):\",(1000*(f-i)))\n",
        "\n",
        "  i=time.time()\n",
        "  goldenratio_ric(polin,-10.,10.)\n",
        "  f=time.time()\n",
        "  print(\"tempo di esecuzione con ricorsione (espresso in ms):\",(1000*(f-i)))\n",
        "\n",
        "\n",
        "if __name__ == \"__main__\":\n",
        "    main ()\n",
        "\n",
        "#Which of the two implementations is faster? ---> quella con l'iterazione"
      ],
      "metadata": {
        "colab": {
          "base_uri": "https://localhost:8080/"
        },
        "id": "xFLx0EgSCurm",
        "outputId": "eaf3032c-73b9-41d3-e40d-f774cd468c7d"
      },
      "execution_count": 50,
      "outputs": [
        {
          "output_type": "stream",
          "name": "stdout",
          "text": [
            "tempo di esecuzione con iterazione (espresso in ms): 0.03218650817871094\n",
            "tempo di esecuzione con ricorsione (espresso in ms): 0.058650970458984375\n"
          ]
        }
      ]
    },
    {
      "cell_type": "markdown",
      "source": [
        "#ESERCIZIO6:\n",
        "##trovare il **massimo** di una funzione a nostra scelta sempre con il *golden ratio method*\n"
      ],
      "metadata": {
        "id": "Nx1ESZtHFW5B"
      }
    },
    {
      "cell_type": "code",
      "source": [
        "def parab(x):\n",
        "  return -2*x**2+2  #il massimo vale 2\n",
        "#-----------------------------------------------\n",
        "def goldenratio (func,x0, x1, precision=0.0001):\n",
        "  r = 0.618\n",
        "  x2 = 0\n",
        "  x3 = 0\n",
        "\n",
        "  while (x1-x0 > precision):\n",
        "\n",
        "   x2 = x0 + r * (x1 - x0)\n",
        "   x3 = x0 + (1. - r) * (x1 - x0)\n",
        "\n",
        "   if (func(x3) < func(x2)):    #modifico la condizione sulla pendenza per la selezione dei punti, cosi trovo il massimo\n",
        "    x0 = x3\n",
        "    x1 = x1\n",
        "\n",
        "   else:\n",
        "     x1 = x2\n",
        "     x0 = x0\n",
        "\n",
        "  return func((x0+x1)/2.)\n",
        "\n",
        "\n",
        "def main():\n",
        "\n",
        "   a=goldenratio(parab, -1. , 1. )\n",
        "   print(\"il massimo della funzione data vale: \", a)\n",
        "\n",
        "if __name__ == \"__main__\":\n",
        "    main ()"
      ],
      "metadata": {
        "colab": {
          "base_uri": "https://localhost:8080/"
        },
        "id": "tKpahW2RFkcM",
        "outputId": "b52e1c23-e88d-488a-f0eb-331a50e3fc1d"
      },
      "execution_count": 56,
      "outputs": [
        {
          "output_type": "stream",
          "name": "stdout",
          "text": [
            "il massimo della funzione data vale:  1.9999999991948632\n"
          ]
        }
      ]
    },
    {
      "cell_type": "code",
      "source": [
        "#trovare il massimo ricorsivamente con golden ratiiiiio\n",
        "def parab(x):\n",
        "  return -2*x**2 + 2\n",
        "\n",
        "def goldenratio_ric (func,x0, x1, precision=0.0001):\n",
        "\n",
        "  r = 0.618\n",
        "  x2 = x0 +  r * (x1 - x0)\n",
        "  x3 = x0 + (1. - r) * (x1 - x0)\n",
        "    #ci servono uscita e passo(i) ricorsione:\n",
        "\n",
        "  if (x1-x0 < precision): return func(x0+x1/2.)\n",
        "  elif (func(x3)<func(x2)): return goldenratio_ric(func,x3,x1,precision=0.0001)\n",
        "  else: return goldenratio_ric(func,x0,x2,precision=0.0001)\n",
        "\n",
        "\n",
        "  return func((x0+x1)/2.)\n",
        "#-------------------------------------------------------------------------\n",
        "def main():\n",
        "\n",
        "   a=goldenratio_ric(parab, -1. , 1. )\n",
        "   print(\"il massimo della funzione data vale: \", a)\n",
        "\n",
        "if __name__ == \"__main__\":\n",
        "    main ()\n",
        "\n",
        "#E SE AVESSI UNA FUNZIONE CON UN MASSIMO E UN MINIMO IN UN CERTO INTERVALLO E VOLESSI TROVARE ENTRAMBI COME FAREI A IMPLEMENTARE IL METODO DELLA SEZIONE AUREA??"
      ],
      "metadata": {
        "id": "cjSfxc1cIvTK",
        "outputId": "3d859f02-b40e-4166-aba7-e5bd88008cd6",
        "colab": {
          "base_uri": "https://localhost:8080/"
        }
      },
      "execution_count": 61,
      "outputs": [
        {
          "output_type": "stream",
          "name": "stdout",
          "text": [
            "il massimo della funzione data vale:  1.9999999948993474\n"
          ]
        }
      ]
    },
    {
      "cell_type": "markdown",
      "source": [
        "#esercizio6 extra:\n",
        "##implementare un algoritmo che trovi sia il max che il min di una certa funzione a scelta, con il metodo del golden ratio"
      ],
      "metadata": {
        "id": "ffqIlRzYKJry"
      }
    },
    {
      "cell_type": "code",
      "source": [],
      "metadata": {
        "id": "Daxwx5lxKUfC"
      },
      "execution_count": null,
      "outputs": []
    },
    {
      "cell_type": "markdown",
      "source": [
        "#ESERCIZIO7: confronti e proiezioni grafiche con matplotlib"
      ],
      "metadata": {
        "id": "ApDT4aRZKa6e"
      }
    },
    {
      "cell_type": "code",
      "source": [
        "#Modifying the previously developed programs, use matplotlib to plot the studied functions and the points found using the bisection and golden section search methods.\n",
        "\n",
        "#implementare un programma con le funzione definite sopra (su bisezione e goldenratio) che grafichi la funzione scelta con i suoi punti (zero e max/min)\n",
        "\n",
        "import numpy as np\n",
        "import matplotlib.pyplot as plt\n",
        "\n",
        "def polin(x):\n",
        "  return x**2+ 7.3*x + 4\n",
        "\n",
        "def bisezione_ricorsiva (       #\n",
        "    g,              # funzione di cui trovare lo zero\n",
        "    xMin,           # minimo dell'intervallo\n",
        "    xMax,           # massimo dell'intervallo\n",
        "    prec = 0.0001): # precisione della funzione\n",
        "\n",
        "    '''\n",
        "    Funzione che calcola zeri\n",
        "    con il metodo della bisezione ricorsivo\n",
        "    '''\n",
        "    xAve = 0.5 * (xMax + xMin)\n",
        "    if ((xMax - xMin) < prec): return xAve\n",
        "    if (g (xAve) * g (xMin) > 0.): return bisezione_ricorsiva (g, xAve, xMax, prec) ; #GUARDA COME VENGONO ORA AGGIORNATI I PARAMETRI NEL RICHIAMARE LA FUNZIONE\n",
        "    else                         : return bisezione_ricorsiva (g, xMin, xAve, prec) ;\n",
        "\n",
        "\n",
        "\n",
        "def goldenratio_ric (func,x0, x1, precision=0.0001):\n",
        "\n",
        "  r = 0.618\n",
        "  x2 = x0 +  r * (x1 - x0)\n",
        "  x3 = x0 + (1. - r) * (x1 - x0)\n",
        "    #ci servono uscita e passo(i) ricorsione:\n",
        "\n",
        "  if (x1-x0 < precision): return func(x0+x1/2.)\n",
        "  elif (func(x3)>func(x2)): return goldenratio_ric(func,x3,x1,precision=0.0001)\n",
        "  else: return goldenratio_ric(func,x0,x2,precision=0.0001)\n",
        "\n",
        "\n",
        "  return func((x0+x1)/2.)\n",
        "\n",
        "\n",
        "def main():\n",
        "   x1=np.linspace(-10.,10.,1000)\n",
        "   y1=polin(x1)\n",
        "   point_zero=bisezione_ricorsiva(polin, -10. , 10. ) #lo zero della funzione da graficare calcccolato con golderratio\n",
        "   print(point_zero)\n",
        "   #fig, ax = plt.subplots(1,1)\n",
        "   fig, ax = plt.subplots(3, 1, figsize=(8, 10), tight_layout=True)\n",
        "\n",
        "# single point\n",
        "   ax[0].plot(point_zero, polin(point_zero), '*')\n",
        "\n",
        "\n",
        "# two points\n",
        "   ax[1].plot(x1,y1, '-ro', label='line & marker')\n",
        "\n",
        "\n",
        "if __name__ == \"__main__\":\n",
        "    main ()\n"
      ],
      "metadata": {
        "id": "Ltz8gQxbKfhc",
        "outputId": "5aec8848-05ae-4573-c1f3-74b62febbf6a",
        "colab": {
          "base_uri": "https://localhost:8080/",
          "height": 1000
        }
      },
      "execution_count": 98,
      "outputs": [
        {
          "output_type": "stream",
          "name": "stdout",
          "text": [
            "9.999961853027344\n"
          ]
        },
        {
          "output_type": "display_data",
          "data": {
            "text/plain": [
              "<Figure size 800x1000 with 3 Axes>"
            ],
            "image/png": "[encoded data removed]"
          },
          "metadata": {}
        }
      ]
    }
  ],
  "metadata": {
    "kernelspec": {
      "display_name": "Python 3 (ipykernel)",
      "language": "python",
      "name": "python3"
    },
    "language_info": {
      "codemirror_mode": {
        "name": "ipython",
        "version": 3
      },
      "file_extension": ".py",
      "mimetype": "text/x-python",
      "name": "python",
      "nbconvert_exporter": "python",
      "pygments_lexer": "ipython3",
      "version": "3.8.10"
    },
    "colab": {
      "provenance": []
    }
  },
  "nbformat": 4,
  "nbformat_minor": 0
}