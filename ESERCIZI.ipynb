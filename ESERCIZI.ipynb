{
  "cells": [
    {
      "cell_type": "markdown",
      "source": [
        "##ESERCIZIO 1: trovare lo zero di una funzione con BISEZIONE METHOD"
      ],
      "metadata": {
        "id": "eFrKxPGfOdLT"
      }
    },
    {
      "cell_type": "code",
      "source": [
        "#Determine the zero of the function g(x) = cos(x) using the bisection method in the interval (0, 4).\n",
        "#Which checks have been omitted in the implementation of the algorithm described in the lesson text that could speed up the result?\n",
        "\n",
        "def bisezione (\n",
        "    g,              # funzione di cui trovare lo zero\n",
        "    xMin,           # minimo dell'intervallo\n",
        "    xMax,           # massimo dell'intervallo\n",
        "    prec = 0.0001): # precisione della funzione (con cui voglio trovare lo zero)\n",
        "    '''\n",
        "    Funzione che calcola zeri\n",
        "    con il metodo della bisezione\n",
        "    '''\n",
        "    xAve = 0 #inizializzo la variabile di supporto che mi stamperà il valore cercato\n",
        "    while ((xMax - xMin) > prec) : #condizione dell'iterazione\n",
        "        xAve = 0.5 * (xMax + xMin)\n",
        "        if (g (xAve) * g (xMin) > 0.): xMin = xAve #sfrutta la concordanza o discordanza del segno, se i isegni sono uguali ancora l'intervallino non contiene lo zero\n",
        "        else                         : xMax = xAve\n",
        "    return xAve\n",
        "\n",
        "\n",
        "from math import cos\n",
        "\n",
        "def func (x) : #FUNZIONE SU CUI VOGLIO TROVARE LO ZERO CON UNA CERTA PRECISIONE(che ho però settato nella scrittura della funzione), SU UN CERTO INTERVALLO\n",
        "    '''\n",
        "    Funzione di cui trovare lo zero\n",
        "    '''\n",
        "    return cos (x)\n",
        "\n",
        "\n",
        "# ---- ---- ---- ---- ---- ---- ---- ---- ---- ---- ---- ---- ----\n",
        "import time\n",
        "\n",
        "def main () :\n",
        "    '''\n",
        "    Funzione che implementa il programma principale\n",
        "    '''\n",
        "    # %timeit\n",
        "    print ('Zero della funzione = ', bisezione (func, 0., 4.))\n",
        "\n",
        "    #tempo di esecuzione algortimo iterativo:\n",
        "    start=time.time()\n",
        "    a = bisezione (func, 0., 4.) #non metto il print qui, ma prima. altrimenti mi calcola anche il tempo della funzione print\n",
        "    end=time.time()\n",
        "    print(f\" time bisezione = {1000.*(end-start):.3f}ms\")\n",
        "\n",
        "if __name__ == \"__main__\":\n",
        "    main ()\n",
        "\n"
      ],
      "metadata": {
        "id": "f-1_mODTQ0re",
        "outputId": "d7435a7e-0d40-4aed-ade1-4c18f95f861c",
        "colab": {
          "base_uri": "https://localhost:8080/"
        }
      },
      "execution_count": 5,
      "outputs": [
        {
          "output_type": "stream",
          "name": "stdout",
          "text": [
            "Zero della funzione =  1.57073974609375\n",
            " time bisezione = 0.008ms\n"
          ]
        }
      ]
    },
    {
      "cell_type": "markdown",
      "source": [
        "#ESERCIZIO 2: è l'esercizio 1 scritto in froma RICORSIVA"
      ],
      "metadata": {
        "id": "18jZXk49St8s"
      }
    },
    {
      "cell_type": "code",
      "source": [
        "\n",
        "#Perform the previous exercise using a recursive function.\n",
        "#Which of the two implementations is faster?\n",
        "\n",
        "\n",
        "def bisezione_ricorsiva (       #MODO RICORSIVO DELLA STESSA FUNZIONE DEFINITA SOPRA\n",
        "    g,              # funzione di cui trovare lo zero\n",
        "    xMin,           # minimo dell'intervallo\n",
        "    xMax,           # massimo dell'intervallo\n",
        "    prec = 0.0001): # precisione della funzione\n",
        "\n",
        "    '''\n",
        "    Funzione che calcola zeri\n",
        "    con il metodo della bisezione ricorsivo\n",
        "    '''\n",
        "    xAve = 0.5 * (xMax + xMin)\n",
        "    if ((xMax - xMin) < prec): return xAve\n",
        "    if (g (xAve) * g (xMin) > 0.): return bisezione_ricorsiva (g, xAve, xMax, prec) ; #GUARDA COME VENGONO ORA AGGIORNATI I PARAMETRI NEL RICHIAMARE LA FUNZIONE\n",
        "    else                         : return bisezione_ricorsiva (g, xMin, xAve, prec) ;\n",
        "\n",
        "\n",
        "\n",
        "def main () :\n",
        "    '''\n",
        "    Funzione che implementa il programma principale\n",
        "    '''\n",
        "    print ('Zero della funzione = ', bisezione_ricorsiva(func, 0., 4.))\n",
        "\n",
        "    #tempo di esecuzione algortimo ricorsivo:\n",
        "    start=time.time()\n",
        "    a=bisezione_ricorsiva(func, 0., 4.)\n",
        "    end=time.time()\n",
        "    print(f\" time bisezione = {1000.*(end-start):.3f}ms\")\n",
        "\n",
        "\n",
        "\n",
        "# ---- ---- ---- ---- ---- ---- ---- ---- ---- ---- ---- ---- ----\n",
        "\n",
        "\n",
        "if __name__ == \"__main__\":\n",
        "    main ()\n",
        "\n"
      ],
      "metadata": {
        "id": "34-79rLXS1z5",
        "outputId": "b4078f60-0094-479c-e97e-0f01ac10f21e",
        "colab": {
          "base_uri": "https://localhost:8080/"
        }
      },
      "execution_count": 21,
      "outputs": [
        {
          "output_type": "stream",
          "name": "stdout",
          "text": [
            "Zero della funzione =  1.570770263671875\n",
            " time bisezione = 0.012ms\n"
          ]
        }
      ]
    }
  ],
  "metadata": {
    "kernelspec": {
      "display_name": "Python 3 (ipykernel)",
      "language": "python",
      "name": "python3"
    },
    "language_info": {
      "codemirror_mode": {
        "name": "ipython",
        "version": 3
      },
      "file_extension": ".py",
      "mimetype": "text/x-python",
      "name": "python",
      "nbconvert_exporter": "python",
      "pygments_lexer": "ipython3",
      "version": "3.8.10"
    },
    "colab": {
      "provenance": []
    }
  },
  "nbformat": 4,
  "nbformat_minor": 0
}