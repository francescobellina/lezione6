{
  "cells": [
    {
      "cell_type": "markdown",
      "source": [
        "##ESERCIZIO 1: trovare lo zero di una funzione con BISEZIONE METHOD"
      ],
      "metadata": {
        "id": "eFrKxPGfOdLT"
      }
    },
    {
      "cell_type": "code",
      "source": [
        "#Determine the zero of the function g(x) = cos(x) using the bisection method in the interval (0, 4).\n",
        "#Which checks have been omitted in the implementation of the algorithm described in the lesson text that could speed up the result?\n",
        "\n",
        "def bisezione (\n",
        "    g,              # funzione di cui trovare lo zero\n",
        "    xMin,           # minimo dell'intervallo\n",
        "    xMax,           # massimo dell'intervallo\n",
        "    prec = 0.0001): # precisione della funzione (con cui voglio trovare lo zero)\n",
        "    '''\n",
        "    Funzione che calcola zeri\n",
        "    con il metodo della bisezione\n",
        "    '''\n",
        "    xAve = 0 #inizializzo la variabile di supporto che mi stamperà il valore cercato\n",
        "    while ((xMax - xMin) > prec) : #condizione dell'iterazione\n",
        "        xAve = 0.5 * (xMax + xMin)\n",
        "        if (g (xAve) * g (xMin) > 0.): xMin = xAve #sfrutta la concordanza o discordanza del segno, se i isegni sono uguali ancora l'intervallino non contiene lo zero\n",
        "        else                         : xMax = xAve\n",
        "    return xAve\n",
        "\n",
        "\n",
        "from math import cos\n",
        "\n",
        "def func (x) : #FUNZIONE SU CUI VOGLIO TROVARE LO ZERO CON UNA CERTA PRECISIONE(che ho però settato nella scrittura della funzione), SU UN CERTO INTERVALLO\n",
        "    '''\n",
        "    Funzione di cui trovare lo zero\n",
        "    '''\n",
        "    return cos (x)\n",
        "\n",
        "\n",
        "# ---- ---- ---- ---- ---- ---- ---- ---- ---- ---- ---- ---- ----\n",
        "import time\n",
        "\n",
        "def main () :\n",
        "    '''\n",
        "    Funzione che implementa il programma principale\n",
        "    '''\n",
        "    # %timeit\n",
        "    print ('Zero della funzione = ', bisezione (func, 0., 4.))\n",
        "\n",
        "    #tempo di esecuzione algortimo iterativo:\n",
        "    start=time.time()\n",
        "    a = bisezione (func, 0., 4.) #non metto il print qui, ma prima. altrimenti mi calcola anche il tempo della funzione print\n",
        "    end=time.time()\n",
        "    print(f\" time bisezione = {1000.*(end-start):.3f}ms\")\n",
        "\n",
        "if __name__ == \"__main__\":\n",
        "    main ()\n",
        "\n"
      ],
      "metadata": {
        "colab": {
          "base_uri": "https://localhost:8080/"
        },
        "id": "f-1_mODTQ0re",
        "outputId": "d7435a7e-0d40-4aed-ade1-4c18f95f861c"
      },
      "execution_count": 5,
      "outputs": [
        {
          "output_type": "stream",
          "name": "stdout",
          "text": [
            "Zero della funzione =  1.57073974609375\n",
            " time bisezione = 0.008ms\n"
          ]
        }
      ]
    },
    {
      "cell_type": "markdown",
      "source": [
        "#ESERCIZIO 2: è l'esercizio 1 scritto in froma RICORSIVA"
      ],
      "metadata": {
        "id": "18jZXk49St8s"
      }
    },
    {
      "cell_type": "code",
      "source": [
        "\n",
        "#Perform the previous exercise using a recursive function.\n",
        "#Which of the two implementations is faster?\n",
        "\n",
        "\n",
        "def bisezione_ricorsiva (       #MODO RICORSIVO DELLA STESSA FUNZIONE DEFINITA SOPRA\n",
        "    g,              # funzione di cui trovare lo zero\n",
        "    xMin,           # minimo dell'intervallo\n",
        "    xMax,           # massimo dell'intervallo\n",
        "    prec = 0.0001): # precisione della funzione\n",
        "\n",
        "    '''\n",
        "    Funzione che calcola zeri\n",
        "    con il metodo della bisezione ricorsivo\n",
        "    '''\n",
        "    xAve = 0.5 * (xMax + xMin)\n",
        "    if ((xMax - xMin) < prec): return xAve\n",
        "    if (g (xAve) * g (xMin) > 0.): return bisezione_ricorsiva (g, xAve, xMax, prec) ; #GUARDA COME VENGONO ORA AGGIORNATI I PARAMETRI NEL RICHIAMARE LA FUNZIONE\n",
        "    else                         : return bisezione_ricorsiva (g, xMin, xAve, prec) ;\n",
        "\n",
        "\n",
        "\n",
        "def main () :\n",
        "    '''\n",
        "    Funzione che implementa il programma principale\n",
        "    '''\n",
        "    print ('Zero della funzione = ', bisezione_ricorsiva(func, 0., 4.))\n",
        "\n",
        "    #tempo di esecuzione algortimo ricorsivo:\n",
        "    start=time.time()\n",
        "    bisezione_ricorsiva(func, 0., 4.) #se mettessi un print attorno a bisezione_... il tempo di esecuzione sarebbe piu lungo, per cui lo escludo e calcolo soltanto il valore\n",
        "    end=time.time()\n",
        "    execution_time=end-start\n",
        "    print(f\"time bisezione = {1000.*(end-start):.3f}ms\")\n",
        "    print(f\"Il tempo di esecuzione della funzione tra i blocchi start ed end vale: {1000.*(execution_time):.3f}ms\") #ok, f sta per troncaree alla terza cifra decimale del float\n",
        "    print(\"il tempo di... vale: \", execution_time, \"secondi\") #in maniera piu rozza, dicono tutte e tre la stessa cosa\n",
        "\n",
        "# ---- ---- ---- ---- ---- ---- ---- ---- ---- ---- ---- ---- ----\n",
        "\n",
        "\n",
        "if __name__ == \"__main__\":\n",
        "    main ()\n",
        "\n"
      ],
      "metadata": {
        "colab": {
          "base_uri": "https://localhost:8080/"
        },
        "id": "34-79rLXS1z5",
        "outputId": "6d5f4ebd-7381-4974-ab89-8cae4d6f41d2"
      },
      "execution_count": 47,
      "outputs": [
        {
          "output_type": "stream",
          "name": "stdout",
          "text": [
            "Zero della funzione =  1.570770263671875\n",
            "time bisezione = 0.016ms\n",
            "Il tempo di esecuzione della funzione tra i blocchi start ed end vale: 0.016ms\n",
            "il tempo di... vale:  1.621246337890625e-05 secondi\n"
          ]
        }
      ]
    },
    {
      "cell_type": "markdown",
      "source": [
        "#ESERCIZIO 3: fattoriale in forma ricorsiva"
      ],
      "metadata": {
        "id": "45dEd6tcZnYd"
      }
    },
    {
      "cell_type": "code",
      "source": [
        "#Implement a function that calculates the factorial of a number using a recursive function.\n",
        "\n",
        "def factorial(n):\n",
        "\n",
        "   if n<2 :\n",
        "     return 1\n",
        "   return n*factorial(n-1) #è qui la ricorsione\n",
        "\n",
        "\n",
        "def main():\n",
        "  fact=factorial(10)\n",
        "  print(fact)\n",
        "\n",
        "  fact=factorial(3)\n",
        "  print(fact)\n",
        "\n",
        "\n",
        "if __name__ == \"__main__\":\n",
        "    main ()"
      ],
      "metadata": {
        "colab": {
          "base_uri": "https://localhost:8080/"
        },
        "id": "sB8VZreeZvjR",
        "outputId": "56e0eb15-3fc3-4b13-d654-a1a6d011563a"
      },
      "execution_count": 45,
      "outputs": [
        {
          "output_type": "stream",
          "name": "stdout",
          "text": [
            "3628800\n",
            "6\n"
          ]
        }
      ]
    },
    {
      "cell_type": "markdown",
      "source": [
        "#variante esercizio3:\n",
        "## scrivere la funzione factorial in forma iterativa. confrontare poi i tempi di entrambe le implementazioni."
      ],
      "metadata": {
        "id": "rPEsI9wYaG5g"
      }
    },
    {
      "cell_type": "code",
      "source": [
        "def factorial_it(n):\n",
        "  i=1\n",
        "  m=1 #variabile bandierina\n",
        "  while(i<=n):\n",
        "   if n==0: return 1\n",
        "   else:\n",
        "    m=m*i\n",
        "   i=i+1\n",
        "  return m\n",
        "\n",
        "def main():\n",
        "  print(factorial_it(10))\n",
        "\n",
        "\n",
        "if __name__ == \"__main__\":\n",
        "    main ()\n",
        ""
      ],
      "metadata": {
        "colab": {
          "base_uri": "https://localhost:8080/"
        },
        "id": "LICinXagaRnI",
        "outputId": "07d7b7a5-a8f4-4664-d76a-59beb12fd999"
      },
      "execution_count": 46,
      "outputs": [
        {
          "output_type": "stream",
          "name": "stdout",
          "text": [
            "3628800\n"
          ]
        }
      ]
    },
    {
      "cell_type": "code",
      "source": [
        "#confronto tempi di esecuzione\n",
        "import time\n",
        "\n",
        "\n",
        "def factorial(n):\n",
        "\n",
        "   if n<2 :\n",
        "     return 1\n",
        "   return n*factorial(n-1)\n",
        "#-------------------------\n",
        "def factorial_it(n):\n",
        " i=1\n",
        "  m=1 #variabile bandierina\n",
        "  while(i<=n):\n",
        "   if n==0: return 1\n",
        "   else:\n",
        "    m=m*i\n",
        "   i=i+1\n",
        "  return m\n",
        "#------------------------\n",
        "def factoriale_it_2(n):\n",
        "  ''' another type of iterative implemetetion '''\n",
        " fact=1\n",
        "  for i in range(1, n+1):\n",
        "    fact = fact * i\n",
        "  return fact\n",
        "\n",
        "#-------------------------\n",
        "def main():\n",
        "\n",
        "  i=time.time()\n",
        "  factorial(10)\n",
        "  f=time.time()\n",
        "  print(\"tempo di esecuzione (espresso in ms):\",(1000*(f-i)))\n",
        "\n",
        "  i=time.time()\n",
        "  factorial_it(10)\n",
        "  f=time.time()\n",
        "  print(\"tempo di esecuzione (espresso in ms):\",(1000*(f-i)))\n",
        "\n",
        "  i=time.time()\n",
        "  factoriale_it_2(10)\n",
        "  f=time.time()\n",
        "  print(\"tempo di esecuzione (espresso in ms):\",(1000*(f-i)))\n",
        "\n",
        "  print(\"\\nLa versione iterativa la più veloce\")\n",
        "if __name__ == \"__main__\":\n",
        "    main ()\n",
        ""
      ],
      "metadata": {
        "colab": {
          "base_uri": "https://localhost:8080/",
          "height": 142
        },
        "id": "Ap2M--tmc4vx",
        "outputId": "97c79566-e9fc-4839-a3cb-5452351ffdee"
      },
      "execution_count": 70,
      "outputs": [
        {
          "output_type": "error",
          "ename": "IndentationError",
          "evalue": "ignored",
          "traceback": [
            "\u001b[0;36m  File \u001b[0;32m\"<ipython-input-70-d54125ec5c13>\"\u001b[0;36m, line \u001b[0;32m13\u001b[0m\n\u001b[0;31m    m=1 #variabile bandierina\u001b[0m\n\u001b[0m    ^\u001b[0m\n\u001b[0;31mIndentationError\u001b[0m\u001b[0;31m:\u001b[0m unexpected indent\n"
          ]
        }
      ]
    }
  ],
  "metadata": {
    "kernelspec": {
      "display_name": "Python 3 (ipykernel)",
      "language": "python",
      "name": "python3"
    },
    "language_info": {
      "codemirror_mode": {
        "name": "ipython",
        "version": 3
      },
      "file_extension": ".py",
      "mimetype": "text/x-python",
      "name": "python",
      "nbconvert_exporter": "python",
      "pygments_lexer": "ipython3",
      "version": "3.8.10"
    },
    "colab": {
      "provenance": []
    }
  },
  "nbformat": 4,
  "nbformat_minor": 0
}